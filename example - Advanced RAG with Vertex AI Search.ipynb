{
 "cells": [
  {
   "cell_type": "code",
   "execution_count": 1,
   "metadata": {},
   "outputs": [
    {
     "name": "stdout",
     "output_type": "stream",
     "text": [
      "Google Cloud Storage client initialized\n"
     ]
    }
   ],
   "source": [
    "import os\n",
    "from google.cloud import storage\n",
    "from dotenv import load_dotenv, set_key\n",
    "from google.oauth2 import service_account\n",
    "import google.oauth2.credentials\n",
    "\n",
    "# Load Google API Key from .env file\n",
    "env_path = '.env'\n",
    "load_dotenv(env_path)\n",
    "api_key = os.getenv(\"GOOGLE_API_KEY\")\n",
    "if not api_key:\n",
    "    raise ValueError(\"Failed to load API key. Please set GOOGLE_API_KEY in the .env file.\")\n",
    "\n",
    "# Service account key file path and project settings\n",
    "KEY_PATH = \"./pablo-test-425702-22d29fa73af8.json\"\n",
    "PROJECT_ID = \"pablo-test-425702\"\n",
    "GS_LOCATION = \"asia-northeast3\"\n",
    "\n",
    "# Initialize Google Cloud Storage client\n",
    "try:\n",
    "    storage_client = storage.Client.from_service_account_json(KEY_PATH)\n",
    "    print(\"Google Cloud Storage client initialized\")\n",
    "except Exception as e:\n",
    "    print(f\"Google Cloud Storage client error: {e}\")\n",
    "\n",
    "credentials = service_account.Credentials.from_service_account_file(\n",
    "    KEY_PATH, \n",
    "    scopes=['https://www.googleapis.com/auth/cloud-platform']\n",
    ")"
   ]
  },
  {
   "cell_type": "code",
   "execution_count": 2,
   "metadata": {},
   "outputs": [],
   "source": [
    "import vertexai\n",
    "from vertexai.generative_models import GenerativeModel, Part, Tool\n",
    "import vertexai.generative_models as generative_models\n",
    "from langchain.retrievers import GoogleVertexAIMultiTurnSearchRetriever\n",
    "from langchain_google_community import VertexAISearchRetriever\n",
    "from vertexai.preview.generative_models import grounding\n",
    "\n",
    "MODEL_NAME=\"gemini-1.0-flash\"\n",
    "VERTEX_AI_LOCATION=\"us-central1\"\n",
    "\n",
    "# Initalizate the current vertex AI execution environment.\n",
    "vertexai.init(project=PROJECT_ID, location=VERTEX_AI_LOCATION)\n",
    "MODEL = GenerativeModel(MODEL_NAME)"
   ]
  },
  {
   "cell_type": "code",
   "execution_count": null,
   "metadata": {},
   "outputs": [],
   "source": [
    "#1. 검색어를 분석해서 검색어가 증강이 필요한지 확인\n",
    "#2. 검색어의 증강이 필요하다면, 검색어를 증강해서 검색 시작\n",
    "#3. 증강한 검색어를 바탕으로, 검색어가 RAG, External Search, Function Call인지 파악하기\n",
    "#4. 파악한 필요한 기능을 통해, 시스템에 통합해서 출력\n",
    "\n",
    "\n",
    "# - Function Call, RAG 검색 기능 제한\n",
    "# -\n",
    "\n",
    "#1. 최근에 커밋한 개수는 몇 개 인가요"
   ]
  },
  {
   "cell_type": "code",
   "execution_count": null,
   "metadata": {},
   "outputs": [],
   "source": []
  }
 ],
 "metadata": {
  "kernelspec": {
   "display_name": "llm_test2",
   "language": "python",
   "name": "python3"
  },
  "language_info": {
   "codemirror_mode": {
    "name": "ipython",
    "version": 3
   },
   "file_extension": ".py",
   "mimetype": "text/x-python",
   "name": "python",
   "nbconvert_exporter": "python",
   "pygments_lexer": "ipython3",
   "version": "3.10.14"
  }
 },
 "nbformat": 4,
 "nbformat_minor": 2
}
