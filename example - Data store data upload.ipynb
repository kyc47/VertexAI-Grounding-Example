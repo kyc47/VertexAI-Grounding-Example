{
 "cells": [
  {
   "cell_type": "markdown",
   "metadata": {},
   "source": [
    "# Vertex AI Search - Make DataStore and import documents"
   ]
  },
  {
   "cell_type": "markdown",
   "metadata": {},
   "source": [
    "### Inastall Vertex AI Search package"
   ]
  },
  {
   "cell_type": "code",
   "execution_count": 1,
   "metadata": {},
   "outputs": [
    {
     "name": "stdout",
     "output_type": "stream",
     "text": [
      "Note: you may need to restart the kernel to use updated packages.\n"
     ]
    }
   ],
   "source": [
    "%pip install --upgrade --quiet google-cloud-discoveryengine"
   ]
  },
  {
   "cell_type": "code",
   "execution_count": 2,
   "metadata": {},
   "outputs": [
    {
     "name": "stdout",
     "output_type": "stream",
     "text": [
      "151473909705\n"
     ]
    }
   ],
   "source": [
    "import os\n",
    "from google.cloud import storage\n",
    "from dotenv import load_dotenv, set_key\n",
    "from google.oauth2 import service_account\n",
    "import google.oauth2.credentials\n",
    "from googleapiclient import discovery\n",
    "from google.auth import default\n",
    "\n",
    "# Load Google API Key from .env file\n",
    "env_path = '.env'\n",
    "load_dotenv(env_path)\n",
    "api_key = os.getenv(\"GOOGLE_API_KEY\")\n",
    "if not api_key:\n",
    "    raise ValueError(\"Failed to load API key. Please set GOOGLE_API_KEY in the .env file.\")\n",
    "\n",
    "# Service account key file path and project settings\n",
    "KEY_PATH = \"./pablo-test-425702-22d29fa73af8.json\"\n",
    "PROJECT_ID = \"pablo-test-425702\"\n",
    "GS_LOCATION = \"asia-northeast3\"\n",
    "\n",
    "# Initialize Google Cloud Storage client\n",
    "# try:\n",
    "#     storage_client = storage.Client.from_service_account_json(KEY_PATH)\n",
    "#     print(\"Google Cloud Storage client initialized\")\n",
    "# except Exception as e:\n",
    "#     print(f\"Google Cloud Storage client error: {e}\")\n",
    "\n",
    "credentials = service_account.Credentials.from_service_account_file(\n",
    "    KEY_PATH, \n",
    "    scopes=['https://www.googleapis.com/auth/cloud-platform']\n",
    ")\n",
    "\n",
    "project_id = os.getenv('GOOGLE_CLOUD_PROJECT', 'pablo-test-425702')\n",
    "\n",
    "# 프로젝트 번호 가져오기\n",
    "def get_project_number(project_id):\n",
    "    credentials, _ = default()\n",
    "    service = discovery.build('cloudresourcemanager', 'v1', credentials=credentials)\n",
    "    request = service.projects().get(projectId=project_id)\n",
    "    response = request.execute()\n",
    "    return response['projectNumber']\n",
    "\n",
    "PROJECT_NUMBER = get_project_number(project_id)\n",
    "print(PROJECT_NUMBER)\n",
    "\n"
   ]
  },
  {
   "cell_type": "markdown",
   "metadata": {},
   "source": [
    "## Make data store"
   ]
  },
  {
   "cell_type": "markdown",
   "metadata": {},
   "source": [
    "#### Data store creation\n"
   ]
  },
  {
   "cell_type": "code",
   "execution_count": 3,
   "metadata": {},
   "outputs": [],
   "source": [
    "from google.cloud.discoveryengine_v1 import (\n",
    "    CreateDataStoreRequest,\n",
    "    CreateEngineRequest,\n",
    "    DataStore,\n",
    "    DataStoreServiceClient,\n",
    "    Engine,\n",
    "    EngineServiceClient,\n",
    "    IndustryVertical,\n",
    "    SolutionType,\n",
    "    DocumentProcessingConfig,\n",
    ")\n",
    "from google.protobuf.field_mask_pb2 import FieldMask\n",
    "\n",
    "def create_data_store(project_id: str, region: str, data_store_id: str):\n",
    "    parent = f\"projects/{project_id}/locations/{region}\"\n",
    "    client = DataStoreServiceClient(credentials=credentials)\n",
    "    name = f\"projects/{PROJECT_NUMBER}/locations/{region}/collections/default_collection/dataStores/{data_store_id}/documentProcessingConfig\"\n",
    "\n",
    "    config = DocumentProcessingConfig(\n",
    "        name=name,\n",
    "        chunking_config=DocumentProcessingConfig.ChunkingConfig(\n",
    "            layout_based_chunking_config=DocumentProcessingConfig.ChunkingConfig.LayoutBasedChunkingConfig(\n",
    "                chunk_size= 499,   # 100-500 사이의 값 설정\n",
    "                include_ancestor_headings=True\n",
    "            )\n",
    "            ),\n",
    "    )\n",
    "\n",
    "\n",
    "    data_store = DataStore(\n",
    "        display_name=data_store_id,\n",
    "        industry_vertical=IndustryVertical.GENERIC,\n",
    "        solution_types=[SolutionType.SOLUTION_TYPE_SEARCH],\n",
    "        content_config=DataStore.ContentConfig.CONTENT_REQUIRED,\n",
    "        document_processing_config = config\n",
    "    )\n",
    "    \n",
    "\n",
    "    request = CreateDataStoreRequest(\n",
    "        parent=parent,\n",
    "        data_store=data_store,\n",
    "        data_store_id=data_store_id\n",
    "    )\n",
    "\n",
    "    operation = client.create_data_store(request=request)\n",
    "    response = operation.result()\n",
    "\n",
    "    return response"
   ]
  },
  {
   "cell_type": "code",
   "execution_count": 4,
   "metadata": {},
   "outputs": [
    {
     "name": "stdout",
     "output_type": "stream",
     "text": [
      "Created DataStore: name: \"projects/151473909705/locations/global/collections/default_collection/dataStores/7240b480-194d-4c75-99fb-777d8deb76c3\"\n",
      "display_name: \"7240b480-194d-4c75-99fb-777d8deb76c3\"\n",
      "industry_vertical: GENERIC\n",
      "solution_types: SOLUTION_TYPE_SEARCH\n",
      "default_schema_id: \"default_schema\"\n",
      "content_config: CONTENT_REQUIRED\n",
      "document_processing_config {\n",
      "  name: \"projects/151473909705/locations/global/collections/default_collection/dataStores/7240b480-194d-4c75-99fb-777d8deb76c3/documentProcessingConfig\"\n",
      "  chunking_config {\n",
      "    layout_based_chunking_config {\n",
      "      chunk_size: 499\n",
      "      include_ancestor_headings: true\n",
      "    }\n",
      "  }\n",
      "  default_parsing_config {\n",
      "    digital_parsing_config {\n",
      "    }\n",
      "  }\n",
      "}\n",
      "\n"
     ]
    }
   ],
   "source": [
    "import uuid\n",
    "\n",
    "DATA_STORE_LOCATION  = 'global'\n",
    "DATA_STORE_ID = str(uuid.uuid4())\n",
    "data_store_response = create_data_store(PROJECT_ID, DATA_STORE_LOCATION, DATA_STORE_ID)\n",
    "print(f\"Created DataStore: {data_store_response}\")"
   ]
  },
  {
   "cell_type": "markdown",
   "metadata": {},
   "source": [
    "## import Documents"
   ]
  },
  {
   "cell_type": "code",
   "execution_count": 5,
   "metadata": {},
   "outputs": [],
   "source": [
    "from typing import Any\n",
    "\n",
    "from typing import Optional\n",
    "from google.api_core.client_options import ClientOptions\n",
    "from google.cloud import discoveryengine\n",
    "\n",
    "\n",
    "def import_documents(\n",
    "    project_id: str,\n",
    "    location: str,\n",
    "    data_store_id: str,\n",
    "    gcs_uri: str,\n",
    "    mode: str,\n",
    ") -> Any:\n",
    "\n",
    "\n",
    "    client_options = ClientOptions(api_endpoint=f\"{location}-discoveryengine.googleapis.com\") \n",
    "    client = discoveryengine.DocumentServiceClient(client_options=client_options, credentials=credentials)\n",
    "\n",
    "  \n",
    "    parent = client.branch_path(\n",
    "        project=project_id,\n",
    "        location=location,\n",
    "        data_store=data_store_id,\n",
    "        branch=\"default_branch\"\n",
    "        )\n",
    "\n",
    "    modes = {\n",
    "        \"FULL\": discoveryengine.ImportDocumentsRequest.ReconciliationMode.FULL,\n",
    "        \"INCREMENTAL\": discoveryengine.ImportDocumentsRequest.ReconciliationMode.INCREMENTAL\n",
    "    }\n",
    "    \n",
    "    reconciliation_mode = modes.get(mode)\n",
    "    if not reconciliation_mode:\n",
    "        print(\"Wrong ReconciliationMode, Select either FULL or INCREMENTAL\")\n",
    "        return \"ReconciliationMode Error\"\n",
    "\n",
    "    if not gcs_uri:\n",
    "        print(\"Add the GCS URI to add contents\")\n",
    "        return \"GCS URI Error\"\n",
    "    else:\n",
    "    # Create import documents request\n",
    "        request = discoveryengine.ImportDocumentsRequest(\n",
    "            parent=parent,\n",
    "            gcs_source=discoveryengine.GcsSource(input_uris=[gcs_uri], data_schema=\"content\"),\n",
    "            reconciliation_mode=reconciliation_mode,\n",
    "        )\n",
    "\n",
    "        # Make the request\n",
    "        operation = client.import_documents(request=request)\n",
    "        # print(f\"Waiting for operation to complete: {operation.operation.name}\")\n",
    "        # response = operation.result()\n",
    "\n",
    "        # # Get information from operation metadata\n",
    "        # # metadata = discoveryengine.ImportDocumentsMetadata(operation.metadata)\n",
    "\n",
    "        # # # Handle the response\n",
    "        # print(response)\n",
    "        # print(metadata)\n",
    "\n",
    "        return operation.operation.name\n",
    "\n",
    "\n"
   ]
  },
  {
   "cell_type": "code",
   "execution_count": 6,
   "metadata": {},
   "outputs": [
    {
     "name": "stdout",
     "output_type": "stream",
     "text": [
      "projects/151473909705/locations/global/collections/default_collection/dataStores/7240b480-194d-4c75-99fb-777d8deb76c3/branches/0/operations/import-documents-9934464801994979099\n"
     ]
    }
   ],
   "source": [
    "GCS_URI = \"gs://example_test_bucket_rag/ls-stock-report/*.pdf\"\n",
    "mode = \"FULL\"\n",
    "\n",
    "credentials = service_account.Credentials.from_service_account_file(\n",
    "    KEY_PATH, \n",
    "    scopes=['https://www.googleapis.com/auth/cloud-platform']\n",
    ")\n",
    "\n",
    "\n",
    "outcome =  import_documents(\n",
    "    PROJECT_ID,\n",
    "    DATA_STORE_LOCATION,\n",
    "    DATA_STORE_ID,\n",
    "    GCS_URI,\n",
    "    mode\n",
    "    ) \n",
    "\n",
    "print(outcome)    \n"
   ]
  }
 ],
 "metadata": {
  "kernelspec": {
   "display_name": "llm_test2",
   "language": "python",
   "name": "python3"
  },
  "language_info": {
   "codemirror_mode": {
    "name": "ipython",
    "version": 3
   },
   "file_extension": ".py",
   "mimetype": "text/x-python",
   "name": "python",
   "nbconvert_exporter": "python",
   "pygments_lexer": "ipython3",
   "version": "3.10.14"
  }
 },
 "nbformat": 4,
 "nbformat_minor": 2
}
